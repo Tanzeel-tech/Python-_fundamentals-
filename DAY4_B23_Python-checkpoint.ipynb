{
 "cells": [
  {
   "cell_type": "code",
   "execution_count": 13,
   "metadata": {},
   "outputs": [
    {
     "name": "stdout",
     "output_type": "stream",
     "text": [
      "Different cars are ['tavera', 'i10', 'i20', 'elentra', 21, 22]\n"
     ]
    }
   ],
   "source": [
    "#List\n",
    "cars = [\"tavera\",\"i10\",\"i20\",\"elentra\",21,22] # can add integers in String list, no data type restriction?\n",
    "\n",
    "print(f'Different cars are {cars}')"
   ]
  },
  {
   "cell_type": "code",
   "execution_count": 2,
   "metadata": {},
   "outputs": [
    {
     "name": "stdout",
     "output_type": "stream",
     "text": [
      "Third car is i20\n"
     ]
    }
   ],
   "source": [
    "# Indexing\n",
    "print(f\"Third car is {cars[2]}\")"
   ]
  },
  {
   "cell_type": "code",
   "execution_count": 3,
   "metadata": {},
   "outputs": [
    {
     "name": "stdout",
     "output_type": "stream",
     "text": [
      "['zen', 'i10', 'i20', 'elentra']\n"
     ]
    }
   ],
   "source": [
    "# Replacement, replace tavera with zen\n",
    "\n",
    "cars[0] = 'zen'\n",
    "print(cars)"
   ]
  },
  {
   "cell_type": "code",
   "execution_count": 16,
   "metadata": {},
   "outputs": [
    {
     "name": "stdout",
     "output_type": "stream",
     "text": [
      "['tavera', 'i10', 'i20', 'elentra', 21, 22, 'Baleno', 'Baleno', 'Baleno']\n"
     ]
    }
   ],
   "source": [
    "# Add\n",
    "\n",
    "cars.append(\"Baleno\")  #Ran multiple times, baleno added so many times\n",
    "\n",
    "print(cars)"
   ]
  },
  {
   "cell_type": "code",
   "execution_count": 12,
   "metadata": {},
   "outputs": [
    {
     "ename": "NameError",
     "evalue": "name 'cars' is not defined",
     "output_type": "error",
     "traceback": [
      "\u001b[1;31m---------------------------------------------------------------------------\u001b[0m",
      "\u001b[1;31mNameError\u001b[0m                                 Traceback (most recent call last)",
      "\u001b[1;32m<ipython-input-12-3042bb923b41>\u001b[0m in \u001b[0;36m<module>\u001b[1;34m\u001b[0m\n\u001b[0;32m      1\u001b[0m \u001b[1;31m# Delete\u001b[0m\u001b[1;33m\u001b[0m\u001b[1;33m\u001b[0m\u001b[1;33m\u001b[0m\u001b[0m\n\u001b[0;32m      2\u001b[0m \u001b[1;33m\u001b[0m\u001b[0m\n\u001b[1;32m----> 3\u001b[1;33m \u001b[1;32mdel\u001b[0m \u001b[0mcars\u001b[0m\u001b[1;33m\u001b[0m\u001b[1;33m\u001b[0m\u001b[0m\n\u001b[0m\u001b[0;32m      4\u001b[0m \u001b[1;33m\u001b[0m\u001b[0m\n\u001b[0;32m      5\u001b[0m \u001b[0mprint\u001b[0m\u001b[1;33m(\u001b[0m\u001b[0mcars\u001b[0m\u001b[1;33m)\u001b[0m\u001b[1;33m\u001b[0m\u001b[1;33m\u001b[0m\u001b[0m\n",
      "\u001b[1;31mNameError\u001b[0m: name 'cars' is not defined"
     ]
    }
   ],
   "source": [
    "# Delete\n",
    "\n",
    "del cars   # Completely deleted object itself\n",
    "\n",
    "print(cars) # Cras not found --- again run top one to create cars object"
   ]
  },
  {
   "cell_type": "code",
   "execution_count": 21,
   "metadata": {},
   "outputs": [
    {
     "name": "stdout",
     "output_type": "stream",
     "text": [
      "['tavera', 'i10', 'i20', 'Baleno', 'Baleno', 'Baleno']\n"
     ]
    }
   ],
   "source": [
    "print(cars)\n",
    "\n",
    "del cars[3]     // deleted multiple times\n"
   ]
  },
  {
   "cell_type": "code",
   "execution_count": 23,
   "metadata": {},
   "outputs": [
    {
     "name": "stdout",
     "output_type": "stream",
     "text": [
      "Baleno removed from list of cars ['tavera', 'i10', 'i20', 'Baleno']\n"
     ]
    }
   ],
   "source": [
    "x= cars.pop()  # always removes last one\n",
    "print(f'{x} removed from list of cars {cars}')"
   ]
  },
  {
   "cell_type": "code",
   "execution_count": 25,
   "metadata": {},
   "outputs": [
    {
     "name": "stdout",
     "output_type": "stream",
     "text": [
      "i20 removed from list of cars ['tavera', 'Baleno']\n"
     ]
    }
   ],
   "source": [
    "y = cars.pop(1) # i10 out\n",
    "print(f'{y} removed from list of cars {cars}')"
   ]
  }
 ],
 "metadata": {
  "kernelspec": {
   "display_name": "Python 3",
   "language": "python",
   "name": "python3"
  },
  "language_info": {
   "codemirror_mode": {
    "name": "ipython",
    "version": 3
   },
   "file_extension": ".py",
   "mimetype": "text/x-python",
   "name": "python",
   "nbconvert_exporter": "python",
   "pygments_lexer": "ipython3",
   "version": "3.7.6"
  }
 },
 "nbformat": 4,
 "nbformat_minor": 4
}
