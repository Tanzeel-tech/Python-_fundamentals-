{
 "cells": [
  {
   "cell_type": "code",
   "execution_count": 6,
   "metadata": {},
   "outputs": [
    {
     "name": "stdout",
     "output_type": "stream",
     "text": [
      "full_name -----TEJA KUMAR\n"
     ]
    }
   ],
   "source": [
    "#F string  -- ${} in Groovy\n",
    "f_name = \"TEJA\"\n",
    "l_name = \"KUMAR\"\n",
    "print(f'full_name -----{f_name} {l_name}')"
   ]
  },
  {
   "cell_type": "code",
   "execution_count": 7,
   "metadata": {},
   "outputs": [
    {
     "name": "stdout",
     "output_type": "stream",
     "text": [
      "Congratulation on starting python TEJA KUMAR\n"
     ]
    }
   ],
   "source": [
    "#Formatting \n",
    "print(f'Congratulation on starting python {f_name} {l_name}')"
   ]
  },
  {
   "cell_type": "code",
   "execution_count": 8,
   "metadata": {},
   "outputs": [
    {
     "name": "stdout",
     "output_type": "stream",
     "text": [
      "My fav languages : JavaPythonC++C#\n"
     ]
    }
   ],
   "source": [
    "#Delimiters\n",
    "print('My fav languages : JavaPythonC++C#')"
   ]
  },
  {
   "cell_type": "code",
   "execution_count": 9,
   "metadata": {},
   "outputs": [
    {
     "name": "stdout",
     "output_type": "stream",
     "text": [
      "My fav languages : \n",
      "Java\n",
      "Python\n",
      "C++\n",
      "C#\n"
     ]
    }
   ],
   "source": [
    "#Delimiters\n",
    "print('My fav languages : \\nJava\\nPython\\nC++\\nC#')"
   ]
  },
  {
   "cell_type": "code",
   "execution_count": 10,
   "metadata": {},
   "outputs": [
    {
     "name": "stdout",
     "output_type": "stream",
     "text": [
      "My fav languages : \n",
      "\tJava\n",
      "\tPython\n",
      "\tC++\n",
      "\tC#\n"
     ]
    }
   ],
   "source": [
    "#Delimiters\n",
    "print('My fav languages : \\n\\tJava\\n\\tPython\\n\\tC++\\n\\tC#')"
   ]
  },
  {
   "cell_type": "code",
   "execution_count": 18,
   "metadata": {},
   "outputs": [
    {
     "name": "stdout",
     "output_type": "stream",
     "text": [
      "Hello  \n"
     ]
    }
   ],
   "source": [
    "# Strip , equivalent of trim from Java  \n",
    "name = \"      Hello  \"\n",
    "print(name.lstrip())\n",
    "\n",
    "\n"
   ]
  },
  {
   "cell_type": "code",
   "execution_count": null,
   "metadata": {},
   "outputs": [],
   "source": []
  }
 ],
 "metadata": {
  "kernelspec": {
   "display_name": "Python 3",
   "language": "python",
   "name": "python3"
  },
  "language_info": {
   "codemirror_mode": {
    "name": "ipython",
    "version": 3
   },
   "file_extension": ".py",
   "mimetype": "text/x-python",
   "name": "python",
   "nbconvert_exporter": "python",
   "pygments_lexer": "ipython3",
   "version": "3.7.6"
  }
 },
 "nbformat": 4,
 "nbformat_minor": 4
}
